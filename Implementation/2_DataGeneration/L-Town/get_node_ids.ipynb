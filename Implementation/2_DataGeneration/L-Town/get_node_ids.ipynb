{
 "cells": [
  {
   "cell_type": "code",
   "execution_count": 1,
   "metadata": {},
   "outputs": [
    {
     "name": "stdout",
     "output_type": "stream",
     "text": [
      "(3, 785)     n1   n2   n3   n4   n5   n6   n7   n8   n9  n10  ...  n776  n777  n778  \\\n",
      "0  0.0  0.0  0.0  0.0  0.0  0.0  0.0  0.0  0.0  0.0  ...   1.0   1.0   1.0   \n",
      "1  0.0  0.0  0.0  0.0  0.0  0.0  0.0  0.0  0.0  0.0  ...   0.0   0.0   0.0   \n",
      "2  3.0  3.0  3.0  3.0  3.0  3.0  3.0  3.0  3.0  3.0  ...   0.0   0.0   0.0   \n",
      "\n",
      "   n779  n780  n781  n782   R1   R2   T1  \n",
      "0   1.0   1.0   1.0   1.0  1.0  1.0  0.0  \n",
      "1   0.0   0.0   0.0   0.0  0.0  0.0  0.0  \n",
      "2   0.0   0.0   0.0   0.0  0.0  0.0  3.0  \n",
      "\n",
      "[3 rows x 785 columns]\n"
     ]
    },
    {
     "name": "stderr",
     "output_type": "stream",
     "text": [
      "/tmp/ipykernel_62293/1065028559.py:7: DeprecationWarning: wntr.network.WaterNetworkModel.get_graph is deprecated, use wntr.network.WaterNetworkModel.to_graph instead\n",
      "  nodes_df = pd.DataFrame(wn.get_graph().nodes())\n",
      "/home/mashraf/anaconda3/envs/waterfutures/lib/python3.10/site-packages/wntr/epanet/io.py:2082: UserWarning: Not all curves were used in \"networks/L-Town/Toy/L-TOWN_Area_A.inp\"; added with type None, units conversion left to user\n",
      "  warnings.warn('Not all curves were used in \"{}\"; added with type None, units conversion left to user'.format(self.wn.name))\n",
      "/tmp/ipykernel_62293/1065028559.py:11: DeprecationWarning: wntr.network.WaterNetworkModel.get_graph is deprecated, use wntr.network.WaterNetworkModel.to_graph instead\n",
      "  nodes_df_A = pd.DataFrame(wn_A.get_graph().nodes())\n"
     ]
    },
    {
     "data": {
      "text/plain": [
       "((661,), (31,), (93,))"
      ]
     },
     "execution_count": 1,
     "metadata": {},
     "output_type": "execute_result"
    }
   ],
   "source": [
    "import wntr \n",
    "import pandas as pd\n",
    "import numpy as np\n",
    "\n",
    "inp_file = \"networks/L-Town/Toy/L-TOWN.inp\"\n",
    "wn = wntr.network.WaterNetworkModel(inp_file)\n",
    "nodes_df = pd.DataFrame(wn.get_graph().nodes())\n",
    "\n",
    "inp_file_A = \"networks/L-Town/Toy/L-TOWN_Area_A.inp\"\n",
    "wn_A = wntr.network.WaterNetworkModel(inp_file_A)\n",
    "nodes_df_A = pd.DataFrame(wn_A.get_graph().nodes())\n",
    "\n",
    "\n",
    "node_ids = [ n[0] for n in nodes_df.values ]\n",
    "node_ids_A = [ n[0] for n in nodes_df_A.values ]\n",
    "node_ids_BC = []\n",
    "for n in node_ids:\n",
    "    if n not in node_ids_A:\n",
    "        node_ids_BC.append(n)\n",
    "\n",
    "node_ids_B = ['n226', 'n623', 'n206', 'n205', 'n208', 'n625', 'n337', 'n209', 'n211', 'n626', \n",
    "              'n210', 'n213', 'n624', 'n207', 'n212', 'n216', 'n215', 'n217', 'n246', 'n667',\n",
    "              'n253', 'n254', 'n247', 'n242', 'n243', 'n236', 'n237', 'n233', 'n231', 'n234',\n",
    "              'n227']\n",
    "\n",
    "node_ids_C = []\n",
    "for n in node_ids_BC:\n",
    "    if n not in node_ids_B:\n",
    "        node_ids_C.append(n)\n",
    "\n",
    "# len(node_ids), len(node_ids_A), len(node_ids_BC), len(node_ids_B), len(node_ids_C)\n",
    "\n",
    "node_indices = np.zeros((3, len(node_ids)))\n",
    "node_idx_df = pd.DataFrame(node_indices, columns=node_ids)\n",
    "for n in node_ids_A:\n",
    "    node_idx_df[n][0] = 1 \n",
    "for n in node_ids_B:\n",
    "    node_idx_df[n][1] = 2 \n",
    "for n in node_ids_C:\n",
    "    node_idx_df[n][2] = 3 \n",
    "print(node_idx_df.shape, node_idx_df)\n",
    "\n",
    "node_idx_df.to_csv(\"data_nodes_LTown.csv\")\n",
    "\n",
    "\n",
    "indices_ABC = node_idx_df.values\n",
    "indices_A = np.where(indices_ABC[0] == 1)[0]\n",
    "indices_B = np.where(indices_ABC[1] == 2)[0]\n",
    "indices_C = np.where(indices_ABC[2] == 3)[0]\n",
    "indices_A.shape, indices_B.shape, indices_C.shape"
   ]
  }
 ],
 "metadata": {
  "kernelspec": {
   "display_name": "waterfutures",
   "language": "python",
   "name": "python3"
  },
  "language_info": {
   "codemirror_mode": {
    "name": "ipython",
    "version": 3
   },
   "file_extension": ".py",
   "mimetype": "text/x-python",
   "name": "python",
   "nbconvert_exporter": "python",
   "pygments_lexer": "ipython3",
   "version": "3.10.9"
  },
  "orig_nbformat": 4,
  "vscode": {
   "interpreter": {
    "hash": "b45874c870c55050e8198caf270807305fb2d037fd72be9a1c77d24a5ea9080f"
   }
  }
 },
 "nbformat": 4,
 "nbformat_minor": 2
}
